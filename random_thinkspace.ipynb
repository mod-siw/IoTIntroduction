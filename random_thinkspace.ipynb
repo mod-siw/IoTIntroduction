{
  "cells": [
    {
      "cell_type": "markdown",
      "metadata": {
        "id": "view-in-github",
        "colab_type": "text"
      },
      "source": [
        "<a href=\"https://colab.research.google.com/github/mod-siw/IoTIntroduction/blob/main/random_thinkspace.ipynb\" target=\"_parent\"><img src=\"https://colab.research.google.com/assets/colab-badge.svg\" alt=\"Open In Colab\"/></a>"
      ]
    },
    {
      "cell_type": "code",
      "execution_count": null,
      "metadata": {
        "id": "0Ymo-1mQcNzI"
      },
      "outputs": [],
      "source": [
        "import requests"
      ]
    },
    {
      "cell_type": "code",
      "execution_count": null,
      "metadata": {
        "colab": {
          "base_uri": "https://localhost:8080/"
        },
        "id": "1jOu5fPUcQLq",
        "outputId": "292001f8-54eb-472e-8ec9-b9f97c1986ad"
      },
      "outputs": [
        {
          "name": "stdout",
          "output_type": "stream",
          "text": [
            "2\n"
          ]
        }
      ],
      "source": [
        "r = requests.get('https://api.thingspeak.com/update?api_key=27AIZW0BP1ZI6C8G&field1=0');\n",
        "print(r.text)"
      ]
    },
    {
      "cell_type": "code",
      "execution_count": null,
      "metadata": {
        "colab": {
          "background_save": true,
          "base_uri": "https://localhost:8080/"
        },
        "id": "RvL7Lf12cmpq",
        "outputId": "c9d3baf2-23e3-4f22-f6ee-f4a53bccf479"
      },
      "outputs": [
        {
          "name": "stdout",
          "output_type": "stream",
          "text": [
            "27\n",
            "28\n",
            "29\n",
            "30\n",
            "31\n",
            "32\n",
            "done\n"
          ]
        }
      ],
      "source": [
        "import time\n",
        "values=[10,20,30,50,60,70]\n",
        "\n",
        "for v in values:\n",
        "  r = requests.get(f'https://api.thingspeak.com/update?api_key=27AIZW0BP1ZI6C8G&field1='+ str(v))\n",
        "  print(r.text)\n",
        "  time.sleep(20)\n",
        "print('done')\n"
      ]
    },
    {
      "cell_type": "code",
      "execution_count": null,
      "metadata": {
        "colab": {
          "base_uri": "https://localhost:8080/"
        },
        "id": "RTtyH04vc6dl",
        "outputId": "a28c9c66-9423-4cb7-865a-1e2b47c52609"
      },
      "outputs": [
        {
          "name": "stdout",
          "output_type": "stream",
          "text": [
            "21 24\n",
            "22 46\n",
            "23 91\n",
            "24 42\n",
            "25 82\n",
            "26 21\n",
            "done\n"
          ]
        }
      ],
      "source": [
        "import time\n",
        "import random\n",
        "\n",
        "for i in range(6):\n",
        "  v = random.randint(0,100)\n",
        "  r = requests.get(f'https://api.thingspeak.com/update?api_key=27AIZW0BP1ZI6C8G&field1='+ str(v))\n",
        "  print(r.text, v)\n",
        "  time.sleep(20)\n",
        "print('done')\n"
      ]
    }
  ],
  "metadata": {
    "colab": {
      "provenance": [],
      "authorship_tag": "ABX9TyO7/GWxt9L+/sg0qe0YZ0QY",
      "include_colab_link": true
    },
    "kernelspec": {
      "display_name": "Python 3",
      "name": "python3"
    },
    "language_info": {
      "name": "python"
    }
  },
  "nbformat": 4,
  "nbformat_minor": 0
}