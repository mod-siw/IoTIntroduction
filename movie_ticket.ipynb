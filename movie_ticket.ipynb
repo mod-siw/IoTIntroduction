{
  "nbformat": 4,
  "nbformat_minor": 0,
  "metadata": {
    "colab": {
      "provenance": [],
      "authorship_tag": "ABX9TyO7CNQzYI6YSWuVQmMdpWGU",
      "include_colab_link": true
    },
    "kernelspec": {
      "name": "python3",
      "display_name": "Python 3"
    },
    "language_info": {
      "name": "python"
    }
  },
  "cells": [
    {
      "cell_type": "markdown",
      "metadata": {
        "id": "view-in-github",
        "colab_type": "text"
      },
      "source": [
        "<a href=\"https://colab.research.google.com/github/mod-siw/IoTIntroduction/blob/main/movie_ticket.ipynb\" target=\"_parent\"><img src=\"https://colab.research.google.com/assets/colab-badge.svg\" alt=\"Open In Colab\"/></a>"
      ]
    },
    {
      "cell_type": "code",
      "execution_count": 16,
      "metadata": {
        "colab": {
          "base_uri": "https://localhost:8080/"
        },
        "id": "KkhIwwY6vsWj",
        "outputId": "c7ef764e-08f1-44fb-ef41-d4d88fba0809"
      },
      "outputs": [
        {
          "output_type": "stream",
          "name": "stdout",
          "text": [
            "<?xml version=\"1.0\" encoding=\"utf-8\" standalone=\"yes\"?><boxOfficeResult><boxofficeType>일별 박스오피스</boxofficeType><showRange>20240315~20240315</showRange><dailyBoxOfficeList><dailyBoxOffice><rnum>1</rnum><rank>1</rank><rankInten>0</rankInten><rankOldAndNew>OLD</rankOldAndNew><movieCd>20234675</movieCd><movieNm>파묘</movieNm><openDt>2024-02-22</openDt><salesAmt>1481302003</salesAmt><salesShare>62.0</salesShare><salesInten>486813627</salesInten><salesChange>49</salesChange><salesAcc>83498474334</salesAcc><audiCnt>150582</audiCnt><audiInten>45517</audiInten><audiChange>43.3</audiChange><audiAcc>8668186</audiAcc><scrnCnt>1860</scrnCnt><showCnt>7089</showCnt></dailyBoxOffice><dailyBoxOffice><rnum>2</rnum><rank>2</rank><rankInten>0</rankInten><rankOldAndNew>OLD</rankOldAndNew><movieCd>20236295</movieCd><movieNm>듄: 파트2</movieNm><openDt>2024-02-28</openDt><salesAmt>478745183</salesAmt><salesShare>20.0</salesShare><salesInten>168931026</salesInten><salesChange>54.5</salesChange><salesAcc>16358624125</salesAcc><audiCnt>37281</audiCnt><audiInten>12790</audiInten><audiChange>52.2</audiChange><audiAcc>1430518</audiAcc><scrnCnt>877</scrnCnt><showCnt>2086</showCnt></dailyBoxOffice><dailyBoxOffice><rnum>3</rnum><rank>3</rank><rankInten>2</rankInten><rankOldAndNew>OLD</rankOldAndNew><movieCd>20236732</movieCd><movieNm>가여운 것들</movieNm><openDt>2024-03-06</openDt><salesAmt>55093810</salesAmt><salesShare>2.3</salesShare><salesInten>15976730</salesInten><salesChange>40.8</salesChange><salesAcc>920554421</salesAcc><audiCnt>5327</audiCnt><audiInten>1396</audiInten><audiChange>35.5</audiChange><audiAcc>92652</audiAcc><scrnCnt>303</scrnCnt><showCnt>429</showCnt></dailyBoxOffice><dailyBoxOffice><rnum>4</rnum><rank>4</rank><rankInten>-1</rankInten><rankOldAndNew>OLD</rankOldAndNew><movieCd>20236488</movieCd><movieNm>밥 말리: 원 러브</movieNm><openDt>2024-03-13</openDt><salesAmt>43766793</salesAmt><salesShare>1.8</salesShare><salesInten>3649837</salesInten><salesChange>9.1</salesChange><salesAcc>177502701</salesAcc><audiCnt>4749</audiCnt><audiInten>196</audiInten><audiChange>4.3</audiChange><audiAcc>19791</audiAcc><scrnCnt>473</scrnCnt><showCnt>929</showCnt></dailyBoxOffice><dailyBoxOffice><rnum>5</rnum><rank>5</rank><rankInten>-1</rankInten><rankOldAndNew>OLD</rankOldAndNew><movieCd>20247782</movieCd><movieNm>랜드 오브 배드</movieNm><openDt>2024-03-13</openDt><salesAmt>37639475</salesAmt><salesShare>1.6</salesShare><salesInten>5188682</salesInten><salesChange>16</salesChange><salesAcc>116894823</salesAcc><audiCnt>4386</audiCnt><audiInten>424</audiInten><audiChange>10.7</audiChange><audiAcc>14358</audiAcc><scrnCnt>385</scrnCnt><showCnt>671</showCnt></dailyBoxOffice><dailyBoxOffice><rnum>6</rnum><rank>6</rank><rankInten>0</rankInten><rankOldAndNew>OLD</rankOldAndNew><movieCd>20234789</movieCd><movieNm>패스트 라이브즈</movieNm><openDt>2024-03-06</openDt><salesAmt>39392872</salesAmt><salesShare>1.6</salesShare><salesInten>9711955</salesInten><salesChange>32.7</salesChange><salesAcc>699888157</salesAcc><audiCnt>4006</audiCnt><audiInten>872</audiInten><audiChange>27.8</audiChange><audiAcc>77891</audiAcc><scrnCnt>316</scrnCnt><showCnt>497</showCnt></dailyBoxOffice><dailyBoxOffice><rnum>7</rnum><rank>7</rank><rankInten>2</rankInten><rankOldAndNew>OLD</rankOldAndNew><movieCd>20236180</movieCd><movieNm>웡카</movieNm><openDt>2024-01-31</openDt><salesAmt>33937441</salesAmt><salesShare>1.4</salesShare><salesInten>13727651</salesInten><salesChange>67.9</salesChange><salesAcc>32921822201</salesAcc><audiCnt>3455</audiCnt><audiInten>1343</audiInten><audiChange>63.6</audiChange><audiAcc>3423858</audiAcc><scrnCnt>275</scrnCnt><showCnt>372</showCnt></dailyBoxOffice><dailyBoxOffice><rnum>8</rnum><rank>8</rank><rankInten>-1</rankInten><rankOldAndNew>OLD</rankOldAndNew><movieCd>20247053</movieCd><movieNm>메이 디셈버</movieNm><openDt>2024-03-13</openDt><salesAmt>28647927</salesAmt><salesShare>1.2</salesShare><salesInten>3161482</salesInten><salesChange>12.4</salesChange><salesAcc>175112483</salesAcc><audiCnt>3240</audiCnt><audiInten>328</audiInten><audiChange>11.3</audiChange><audiAcc>19031</audiAcc><scrnCnt>364</scrnCnt><showCnt>520</showCnt></dailyBoxOffice><dailyBoxOffice><rnum>9</rnum><rank>9</rank><rankInten>0</rankInten><rankOldAndNew>NEW</rankOldAndNew><movieCd>20236714</movieCd><movieNm>극장판 스파이 패밀리 코드 : 화이트</movieNm><openDt>2024-03-20</openDt><salesAmt>32964000</salesAmt><salesShare>1.4</salesShare><salesInten>32964000</salesInten><salesChange>100</salesChange><salesAcc>46312000</salesAcc><audiCnt>3105</audiCnt><audiInten>3105</audiInten><audiChange>100</audiChange><audiAcc>3909</audiAcc><scrnCnt>18</scrnCnt><showCnt>18</showCnt></dailyBoxOffice><dailyBoxOffice><rnum>10</rnum><rank>10</rank><rankInten>-2</rankInten><rankOldAndNew>OLD</rankOldAndNew><movieCd>20247074</movieCd><movieNm>건국전쟁</movieNm><openDt>2024-02-01</openDt><salesAmt>16561307</salesAmt><salesShare>0.7</salesShare><salesInten>-2385071</salesInten><salesChange>-12.6</salesChange><salesAcc>10731681504</salesAcc><audiCnt>1907</audiCnt><audiInten>-310</audiInten><audiChange>-14</audiChange><audiAcc>1154140</audiAcc><scrnCnt>188</scrnCnt><showCnt>216</showCnt></dailyBoxOffice></dailyBoxOfficeList></boxOfficeResult>\n"
          ]
        }
      ],
      "source": [
        "import requests\n",
        "from bs4 import BeautifulSoup\n",
        "\n",
        "r = requests.get('http://www.kobis.or.kr/kobisopenapi/webservice/rest/boxoffice/searchDailyBoxOfficeList.xml?key=454fef903e722d82c5dcdf80636d6645&targetDt=20240315&weekGb=0&itemPerPage=10')\n",
        "print(r.text)"
      ]
    },
    {
      "cell_type": "code",
      "source": [
        "soup = BeautifulSoup(r.text, features=\"xml\")"
      ],
      "metadata": {
        "id": "oXKn8s4kvw52"
      },
      "execution_count": 18,
      "outputs": []
    },
    {
      "cell_type": "code",
      "source": [
        "soup.find_all('movieNm')"
      ],
      "metadata": {
        "colab": {
          "base_uri": "https://localhost:8080/"
        },
        "id": "26KnK1hAvyLc",
        "outputId": "d4fd50f0-d526-4009-8882-4e3254b0ba25"
      },
      "execution_count": 19,
      "outputs": [
        {
          "output_type": "execute_result",
          "data": {
            "text/plain": [
              "[<movieNm>파묘</movieNm>,\n",
              " <movieNm>듄: 파트2</movieNm>,\n",
              " <movieNm>가여운 것들</movieNm>,\n",
              " <movieNm>밥 말리: 원 러브</movieNm>,\n",
              " <movieNm>랜드 오브 배드</movieNm>,\n",
              " <movieNm>패스트 라이브즈</movieNm>,\n",
              " <movieNm>웡카</movieNm>,\n",
              " <movieNm>메이 디셈버</movieNm>,\n",
              " <movieNm>극장판 스파이 패밀리 코드 : 화이트</movieNm>,\n",
              " <movieNm>건국전쟁</movieNm>]"
            ]
          },
          "metadata": {},
          "execution_count": 19
        }
      ]
    },
    {
      "cell_type": "code",
      "source": [
        "soup.find_all('audiCnt')"
      ],
      "metadata": {
        "colab": {
          "base_uri": "https://localhost:8080/"
        },
        "id": "PDc_qILqvz1q",
        "outputId": "d3594213-1fd2-4051-b5ff-4175642dbe39"
      },
      "execution_count": 20,
      "outputs": [
        {
          "output_type": "execute_result",
          "data": {
            "text/plain": [
              "[<audiCnt>150582</audiCnt>,\n",
              " <audiCnt>37281</audiCnt>,\n",
              " <audiCnt>5327</audiCnt>,\n",
              " <audiCnt>4749</audiCnt>,\n",
              " <audiCnt>4386</audiCnt>,\n",
              " <audiCnt>4006</audiCnt>,\n",
              " <audiCnt>3455</audiCnt>,\n",
              " <audiCnt>3240</audiCnt>,\n",
              " <audiCnt>3105</audiCnt>,\n",
              " <audiCnt>1907</audiCnt>]"
            ]
          },
          "metadata": {},
          "execution_count": 20
        }
      ]
    },
    {
      "cell_type": "code",
      "source": [
        "print(\"학번 : \", 2371083, \"이름 : \", \"변지혜\")"
      ],
      "metadata": {
        "colab": {
          "base_uri": "https://localhost:8080/"
        },
        "id": "-j5uHZDRyEZW",
        "outputId": "22ded897-f65c-47e9-c184-9cdf7b906a05"
      },
      "execution_count": 21,
      "outputs": [
        {
          "output_type": "stream",
          "name": "stdout",
          "text": [
            "학번 :  2371083 이름 :  변지혜\n"
          ]
        }
      ]
    }
  ]
}