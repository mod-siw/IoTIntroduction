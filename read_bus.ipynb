{
  "nbformat": 4,
  "nbformat_minor": 0,
  "metadata": {
    "colab": {
      "provenance": [],
      "authorship_tag": "ABX9TyPydvr+u2vlUQHhymDZ3b2i",
      "include_colab_link": true
    },
    "kernelspec": {
      "name": "python3",
      "display_name": "Python 3"
    },
    "language_info": {
      "name": "python"
    }
  },
  "cells": [
    {
      "cell_type": "markdown",
      "metadata": {
        "id": "view-in-github",
        "colab_type": "text"
      },
      "source": [
        "<a href=\"https://colab.research.google.com/github/mod-siw/IoTIntroduction/blob/main/read_bus.ipynb\" target=\"_parent\"><img src=\"https://colab.research.google.com/assets/colab-badge.svg\" alt=\"Open In Colab\"/></a>"
      ]
    },
    {
      "cell_type": "code",
      "execution_count": 1,
      "metadata": {
        "colab": {
          "base_uri": "https://localhost:8080/"
        },
        "id": "7_OkwXvgH5oK",
        "outputId": "d2b07426-2e84-41c9-e913-ddcc31aaf8e7"
      },
      "outputs": [
        {
          "output_type": "stream",
          "name": "stdout",
          "text": [
            "<?xml version=\"1.0\" encoding=\"UTF-8\" standalone=\"yes\"?><response><comMsgHeader/><msgHeader><queryTime>2024-03-16 00:24:06.582</queryTime><resultCode>0</resultCode><resultMessage>정상적으로 처리되었습니다.</resultMessage></msgHeader><msgBody><busLocationList><endBus>0</endBus><lowPlate>0</lowPlate><plateNo>경기70바5514</plateNo><plateType>3</plateType><remainSeatCnt>26</remainSeatCnt><routeId>200000112</routeId><stationId>203000211</stationId><stationSeq>14</stationSeq></busLocationList><busLocationList><endBus>0</endBus><lowPlate>0</lowPlate><plateNo>경기70바5652</plateNo><plateType>3</plateType><remainSeatCnt>49</remainSeatCnt><routeId>200000112</routeId><stationId>120000059</stationId><stationSeq>39</stationSeq></busLocationList><busLocationList><endBus>0</endBus><lowPlate>0</lowPlate><plateNo>경기70바5695</plateNo><plateType>3</plateType><remainSeatCnt>41</remainSeatCnt><routeId>200000112</routeId><stationId>277103221</stationId><stationSeq>30</stationSeq></busLocationList><busLocationList><endBus>0</endBus><lowPlate>0</lowPlate><plateNo>경기70바5547</plateNo><plateType>3</plateType><remainSeatCnt>18</remainSeatCnt><routeId>200000112</routeId><stationId>203000174</stationId><stationSeq>66</stationSeq></busLocationList><busLocationList><endBus>0</endBus><lowPlate>0</lowPlate><plateNo>경기70바5651</plateNo><plateType>3</plateType><remainSeatCnt>18</remainSeatCnt><routeId>200000112</routeId><stationId>226000038</stationId><stationSeq>49</stationSeq></busLocationList></msgBody></response>\n"
          ]
        }
      ],
      "source": [
        "import requests\n",
        "\n",
        "url='http://openapi.gbis.go.kr/ws/rest/buslocationservice?serviceKey=1234567890&routeId=200000112'\n",
        "r = requests.get(url)\n",
        "print(r.text)"
      ]
    },
    {
      "cell_type": "code",
      "source": [
        "from bs4 import BeautifulSoup\n",
        "\n",
        "soup = BeautifulSoup(r.text, features=\"xml\")"
      ],
      "metadata": {
        "id": "Gq-l0b-uMoQD"
      },
      "execution_count": 3,
      "outputs": []
    },
    {
      "cell_type": "code",
      "source": [
        "soup.find_all('stationId')"
      ],
      "metadata": {
        "colab": {
          "base_uri": "https://localhost:8080/"
        },
        "id": "4i18UA_8MsCI",
        "outputId": "11f503be-f6d0-4682-b34e-ee38931d572c"
      },
      "execution_count": 4,
      "outputs": [
        {
          "output_type": "execute_result",
          "data": {
            "text/plain": [
              "[<stationId>203000211</stationId>,\n",
              " <stationId>120000059</stationId>,\n",
              " <stationId>277103221</stationId>,\n",
              " <stationId>203000174</stationId>,\n",
              " <stationId>226000038</stationId>]"
            ]
          },
          "metadata": {},
          "execution_count": 4
        }
      ]
    }
  ]
}