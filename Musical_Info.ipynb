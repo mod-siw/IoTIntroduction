{
  "nbformat": 4,
  "nbformat_minor": 0,
  "metadata": {
    "colab": {
      "provenance": [],
      "authorship_tag": "ABX9TyOkEUG9Tl1p4FxYlrfC7rlD",
      "include_colab_link": true
    },
    "kernelspec": {
      "name": "python3",
      "display_name": "Python 3"
    },
    "language_info": {
      "name": "python"
    }
  },
  "cells": [
    {
      "cell_type": "markdown",
      "metadata": {
        "id": "view-in-github",
        "colab_type": "text"
      },
      "source": [
        "<a href=\"https://colab.research.google.com/github/mod-siw/IoTIntroduction/blob/main/Musical_Info.ipynb\" target=\"_parent\"><img src=\"https://colab.research.google.com/assets/colab-badge.svg\" alt=\"Open In Colab\"/></a>"
      ]
    },
    {
      "cell_type": "code",
      "execution_count": 1,
      "metadata": {
        "id": "mSfPUfRHtQtX",
        "colab": {
          "base_uri": "https://localhost:8080/"
        },
        "outputId": "dede5a54-ef23-4a41-f54e-e51a9e159fdc"
      },
      "outputs": [
        {
          "output_type": "stream",
          "name": "stdout",
          "text": [
            "<?xml version=\"1.0\" encoding=\"UTF-8\"?>\n",
            "<dbs>\n",
            "    <db>\n",
            "        <mt20id>PF237488</mt20id>\n",
            "        <prfnm>책 속에 갇힌 고양이</prfnm>\n",
            "        <prfpdfrom>2024.03.30</prfpdfrom>\n",
            "        <prfpdto>2024.06.29</prfpdto>\n",
            "        <fcltynm>명륜아트홀</fcltynm>\n",
            "        <poster>http://www.kopis.or.kr/upload/pfmPoster/PF_PF237488_240315_140610.jpg</poster>\n",
            "        <area>서울특별시</area>\n",
            "        <genrenm>뮤지컬</genrenm>\n",
            "        <openrun>Y</openrun>\n",
            "        <prfstate>공연예정</prfstate>\n",
            "    </db>\n",
            "    <db>\n",
            "        <mt20id>PF236210</mt20id>\n",
            "        <prfnm>아기돼지삼형제: 늑대숲 또옹돼지 원정대</prfnm>\n",
            "        <prfpdfrom>2024.03.23</prfpdfrom>\n",
            "        <prfpdto>2024.04.30</prfpdto>\n",
            "        <fcltynm>제나아트홀(구. 룸씨어터)</fcltynm>\n",
            "        <poster>http://www.kopis.or.kr/upload/pfmPoster/PF_PF236210_240227_091817.gif</poster>\n",
            "        <area>서울특별시</area>\n",
            "        <genrenm>뮤지컬</genrenm>\n",
            "        <openrun>Y</openrun>\n",
            "        <prfstate>공연예정</prfstate>\n",
            "    </db>\n",
            "    <db>\n",
            "        <mt20id>PF235879</mt20id>\n",
            "        <prfnm>피노키오야 노올자~!</prfnm>\n",
            "        <prfpdfrom>2024.03.23</prfpdfrom>\n",
            "        <prfpdto>2024.03.31</prfpdto>\n",
            "        <fcltynm>서연아트홀(구. 인아소극장)</fcltynm>\n",
            "        <poster>http://www.kopis.or.kr/upload/pfmPoster/PF_PF235879_240221_105721.gif</poster>\n",
            "        <area>서울특별시</area>\n",
            "        <genrenm>뮤지컬</genrenm>\n",
            "        <openrun>Y</openrun>\n",
            "        <prfstate>공연예정</prfstate>\n",
            "    </db>\n",
            "    <db>\n",
            "        <mt20id>PF234961</mt20id>\n",
            "        <prfnm>소가 된 게으름뱅이 [서울]</prfnm>\n",
            "        <prfpdfrom>2024.04.01</prfpdfrom>\n",
            "        <prfpdto>2024.05.26</prfpdto>\n",
            "        <fcltynm>경복궁아트홀</fcltynm>\n",
            "        <poster>http://www.kopis.or.kr/upload/pfmPoster/PF_PF234961_240205_105610.gif</poster>\n",
            "        <area>서울특별시</area>\n",
            "        <genrenm>연극</genrenm>\n",
            "        <openrun>N</openrun>\n",
            "        <prfstate>공연예정</prfstate>\n",
            "    </db>\n",
            "</dbs>\n",
            "\n"
          ]
        }
      ],
      "source": [
        "import requests\n",
        "from bs4 import BeautifulSoup\n",
        "\n",
        "r = requests.get('http://www.kopis.or.kr/openApi/restful/pblprfr?service=8d42ac68188a498d892518c93ed07984&stdate=20240318&eddate=20240401&cpage=1&rows=10&prfstate=01&signgucode=11&signgucodesub=1111&kidstate=Y&newsql=Y')\n",
        "print(r.text)"
      ]
    },
    {
      "cell_type": "code",
      "source": [
        "soup = BeautifulSoup(r.text, features=\"xml\")"
      ],
      "metadata": {
        "id": "wcEXyTU_zeOF"
      },
      "execution_count": 4,
      "outputs": []
    },
    {
      "cell_type": "code",
      "source": [
        "soup.find_all('prfnm')"
      ],
      "metadata": {
        "colab": {
          "base_uri": "https://localhost:8080/"
        },
        "id": "Rwi7T7Ibzeas",
        "outputId": "4bf4a334-5c0d-4a91-acf7-3891926e5a03"
      },
      "execution_count": 3,
      "outputs": [
        {
          "output_type": "execute_result",
          "data": {
            "text/plain": [
              "[<prfnm>책 속에 갇힌 고양이</prfnm>,\n",
              " <prfnm>아기돼지삼형제: 늑대숲 또옹돼지 원정대</prfnm>,\n",
              " <prfnm>피노키오야 노올자~!</prfnm>,\n",
              " <prfnm>소가 된 게으름뱅이 [서울]</prfnm>]"
            ]
          },
          "metadata": {},
          "execution_count": 3
        }
      ]
    }
  ]
}