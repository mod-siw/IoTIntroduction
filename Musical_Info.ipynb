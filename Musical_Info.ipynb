{
  "nbformat": 4,
  "nbformat_minor": 0,
  "metadata": {
    "colab": {
      "provenance": [],
      "authorship_tag": "ABX9TyO5DJFQxEvdxNcGKTZD0N9r",
      "include_colab_link": true
    },
    "kernelspec": {
      "name": "python3",
      "display_name": "Python 3"
    },
    "language_info": {
      "name": "python"
    }
  },
  "cells": [
    {
      "cell_type": "markdown",
      "metadata": {
        "id": "view-in-github",
        "colab_type": "text"
      },
      "source": [
        "<a href=\"https://colab.research.google.com/github/mod-siw/IoTIntroduction/blob/main/Musical_Info.ipynb\" target=\"_parent\"><img src=\"https://colab.research.google.com/assets/colab-badge.svg\" alt=\"Open In Colab\"/></a>"
      ]
    },
    {
      "cell_type": "code",
      "execution_count": 5,
      "metadata": {
        "id": "mSfPUfRHtQtX",
        "colab": {
          "base_uri": "https://localhost:8080/"
        },
        "outputId": "25c8b96d-89d9-4c68-94a7-97d1213c1f36"
      },
      "outputs": [
        {
          "output_type": "stream",
          "name": "stdout",
          "text": [
            "<?xml version=\"1.0\" encoding=\"UTF-8\"?>\n",
            "<dbs>\n",
            "    <db>\n",
            "        <mt20id>PF236137</mt20id>\n",
            "        <prfnm>깡샘의 버블쇼</prfnm>\n",
            "        <prfpdfrom>2024.03.09</prfpdfrom>\n",
            "        <prfpdto>2024.03.31</prfpdto>\n",
            "        <fcltynm>씨어터조이 (구. 마당세실극장)</fcltynm>\n",
            "        <poster>http://www.kopis.or.kr/upload/pfmPoster/PF_PF236137_240226_105119.gif</poster>\n",
            "        <area>서울특별시</area>\n",
            "        <genrenm>서커스/마술</genrenm>\n",
            "        <openrun>N</openrun>\n",
            "        <prfstate>공연중</prfstate>\n",
            "    </db>\n",
            "    <db>\n",
            "        <mt20id>PF234853</mt20id>\n",
            "        <prfnm>안녕 달아</prfnm>\n",
            "        <prfpdfrom>2024.02.09</prfpdfrom>\n",
            "        <prfpdto>2024.03.30</prfpdto>\n",
            "        <fcltynm>달밤엔씨어터</fcltynm>\n",
            "        <poster>http://www.kopis.or.kr/upload/pfmPoster/PF_PF234853_240202_100411.gif</poster>\n",
            "        <area>서울특별시</area>\n",
            "        <genrenm>뮤지컬</genrenm>\n",
            "        <openrun>N</openrun>\n",
            "        <prfstate>공연중</prfstate>\n",
            "    </db>\n",
            "    <db>\n",
            "        <mt20id>PF234570</mt20id>\n",
            "        <prfnm>거꾸로 청개구리</prfnm>\n",
            "        <prfpdfrom>2024.02.03</prfpdfrom>\n",
            "        <prfpdto>2024.03.31</prfpdto>\n",
            "        <fcltynm>아트하우스</fcltynm>\n",
            "        <poster>http://www.kopis.or.kr/upload/pfmPoster/PF_PF234570_240219_155813.jpg</poster>\n",
            "        <area>서울특별시</area>\n",
            "        <genrenm>연극</genrenm>\n",
            "        <openrun>N</openrun>\n",
            "        <prfstate>공연중</prfstate>\n",
            "    </db>\n",
            "    <db>\n",
            "        <mt20id>PF231450</mt20id>\n",
            "        <prfnm>반짝반짝 백설공주</prfnm>\n",
            "        <prfpdfrom>2023.12.24</prfpdfrom>\n",
            "        <prfpdto>2024.03.31</prfpdto>\n",
            "        <fcltynm>달밤엔씨어터</fcltynm>\n",
            "        <poster>http://www.kopis.or.kr/upload/pfmPoster/PF_PF231450_231130_115153.gif</poster>\n",
            "        <area>서울특별시</area>\n",
            "        <genrenm>뮤지컬</genrenm>\n",
            "        <openrun>Y</openrun>\n",
            "        <prfstate>공연중</prfstate>\n",
            "    </db>\n",
            "    <db>\n",
            "        <mt20id>PF225148</mt20id>\n",
            "        <prfnm>내 친구 유관순</prfnm>\n",
            "        <prfpdfrom>2023.12.30</prfpdfrom>\n",
            "        <prfpdto>2024.03.31</prfpdto>\n",
            "        <fcltynm>경복궁아트홀</fcltynm>\n",
            "        <poster>http://www.kopis.or.kr/upload/pfmPoster/PF_PF225148_230904_133432.jpg</poster>\n",
            "        <area>서울특별시</area>\n",
            "        <genrenm>뮤지컬</genrenm>\n",
            "        <openrun>N</openrun>\n",
            "        <prfstate>공연중</prfstate>\n",
            "    </db>\n",
            "    <db>\n",
            "        <mt20id>PF223694</mt20id>\n",
            "        <prfnm>미래상상마술쇼 [대학로]</prfnm>\n",
            "        <prfpdfrom>2023.08.19</prfpdfrom>\n",
            "        <prfpdto>2024.03.31</prfpdto>\n",
            "        <fcltynm>파랑새극장(구. 샘터파랑새극장)</fcltynm>\n",
            "        <poster>http://www.kopis.or.kr/upload/pfmPoster/PF_PF223694_230811_150439.jpg</poster>\n",
            "        <area>서울특별시</area>\n",
            "        <genrenm>서커스/마술</genrenm>\n",
            "        <openrun>Y</openrun>\n",
            "        <prfstate>공연중</prfstate>\n",
            "    </db>\n",
            "    <db>\n",
            "        <mt20id>PF178134</mt20id>\n",
            "        <prfnm>반짝반짝 인어공주</prfnm>\n",
            "        <prfpdfrom>2021.08.21</prfpdfrom>\n",
            "        <prfpdto>2024.03.31</prfpdto>\n",
            "        <fcltynm>달밤엔씨어터</fcltynm>\n",
            "        <poster>http://www.kopis.or.kr/upload/pfmPoster/PF_PF178134_210809_125033.PNG</poster>\n",
            "        <area>서울특별시</area>\n",
            "        <genrenm>뮤지컬</genrenm>\n",
            "        <openrun>Y</openrun>\n",
            "        <prfstate>공연중</prfstate>\n",
            "    </db>\n",
            "    <db>\n",
            "        <mt20id>PF152141</mt20id>\n",
            "        <prfnm>북극곰 예술여행</prfnm>\n",
            "        <prfpdfrom>2019.07.20</prfpdfrom>\n",
            "        <prfpdto>2024.03.31</prfpdto>\n",
            "        <fcltynm>북극곰소극장(구.아뮤스소극장)</fcltynm>\n",
            "        <poster>http://www.kopis.or.kr/upload/pfmPoster/PF_PF152141_190724_140737.jpg</poster>\n",
            "        <area>서울특별시</area>\n",
            "        <genrenm>연극</genrenm>\n",
            "        <openrun>Y</openrun>\n",
            "        <prfstate>공연중</prfstate>\n",
            "    </db>\n",
            "    <db>\n",
            "        <mt20id>PF151901</mt20id>\n",
            "        <prfnm>요리하는 마술사 [대학로]</prfnm>\n",
            "        <prfpdfrom>2019.06.29</prfpdfrom>\n",
            "        <prfpdto>2024.04.28</prfpdto>\n",
            "        <fcltynm>맛있는 극장</fcltynm>\n",
            "        <poster>http://www.kopis.or.kr/upload/pfmPoster/PF_PF151901_190719_134111.gif</poster>\n",
            "        <area>서울특별시</area>\n",
            "        <genrenm>서커스/마술</genrenm>\n",
            "        <openrun>Y</openrun>\n",
            "        <prfstate>공연중</prfstate>\n",
            "    </db>\n",
            "    <db>\n",
            "        <mt20id>PF145801</mt20id>\n",
            "        <prfnm>반짝반짝 라푼젤</prfnm>\n",
            "        <prfpdfrom>2018.08.01</prfpdfrom>\n",
            "        <prfpdto>2024.03.24</prfpdto>\n",
            "        <fcltynm>달밤엔씨어터</fcltynm>\n",
            "        <poster>http://www.kopis.or.kr/upload/pfmPoster/PF_PF145801_181213_104716.jpg</poster>\n",
            "        <area>서울특별시</area>\n",
            "        <genrenm>뮤지컬</genrenm>\n",
            "        <openrun>Y</openrun>\n",
            "        <prfstate>공연중</prfstate>\n",
            "    </db>\n",
            "</dbs>\n",
            "\n"
          ]
        }
      ],
      "source": [
        "import requests\n",
        "from bs4 import BeautifulSoup\n",
        "\n",
        "r = requests.get('http://www.kopis.or.kr/openApi/restful/pblprfr?service=8d42ac68188a498d892518c93ed07984&stdate=20240318&eddate=20240401&cpage=1&rows=10&prfstate=02&signgucode=11&signgucodesub=1111&kidstate=Y&newsql=Y')\n",
        "print(r.text)"
      ]
    },
    {
      "cell_type": "code",
      "source": [
        "soup = BeautifulSoup(r.text, features=\"xml\")"
      ],
      "metadata": {
        "id": "wcEXyTU_zeOF"
      },
      "execution_count": 9,
      "outputs": []
    },
    {
      "cell_type": "code",
      "source": [
        "perfName = soup.find_all('prfnm')\n",
        "perfPlace = soup.find_all('fcltynm')\n",
        "perfDueDate = soup.find_all('prfpdto')\n"
      ],
      "metadata": {
        "id": "Rwi7T7Ibzeas"
      },
      "execution_count": 17,
      "outputs": []
    },
    {
      "cell_type": "code",
      "source": [
        "perfNames = [tag.get_text() for tag in perfName]\n",
        "perfPlaces = [tag.get_text() for tag in perfPlace]\n",
        "perfDueDate = [tag.get_text() for tag in perfDueDate]\n",
        "\n",
        "for name, place, due_date in zip(perfNames, perfPlaces, perfDueDate):\n",
        "    print(f\"'{name}' 공연은 {place}에서 {due_date}까지 진행됩니다.\")\n"
      ],
      "metadata": {
        "colab": {
          "base_uri": "https://localhost:8080/"
        },
        "id": "yOZzbNio3EWo",
        "outputId": "bd629177-b1c9-4864-854e-ceb48d939673"
      },
      "execution_count": 18,
      "outputs": [
        {
          "output_type": "stream",
          "name": "stdout",
          "text": [
            "'깡샘의 버블쇼' 공연은 씨어터조이 (구. 마당세실극장)에서 2024.03.31까지 진행됩니다.\n",
            "'안녕 달아' 공연은 달밤엔씨어터에서 2024.03.30까지 진행됩니다.\n",
            "'거꾸로 청개구리' 공연은 아트하우스에서 2024.03.31까지 진행됩니다.\n",
            "'반짝반짝 백설공주' 공연은 달밤엔씨어터에서 2024.03.31까지 진행됩니다.\n",
            "'내 친구 유관순' 공연은 경복궁아트홀에서 2024.03.31까지 진행됩니다.\n",
            "'미래상상마술쇼 [대학로]' 공연은 파랑새극장(구. 샘터파랑새극장)에서 2024.03.31까지 진행됩니다.\n",
            "'반짝반짝 인어공주' 공연은 달밤엔씨어터에서 2024.03.31까지 진행됩니다.\n",
            "'북극곰 예술여행' 공연은 북극곰소극장(구.아뮤스소극장)에서 2024.03.31까지 진행됩니다.\n",
            "'요리하는 마술사 [대학로]' 공연은 맛있는 극장에서 2024.04.28까지 진행됩니다.\n",
            "'반짝반짝 라푼젤' 공연은 달밤엔씨어터에서 2024.03.24까지 진행됩니다.\n"
          ]
        }
      ]
    },
    {
      "cell_type": "code",
      "source": [
        "print(\"학번 : \", 2371083, \"이름 : \", \"변지혜\")"
      ],
      "metadata": {
        "colab": {
          "base_uri": "https://localhost:8080/"
        },
        "id": "i6ZZ7AXO32gh",
        "outputId": "ec089aa7-b011-4f36-a09f-7af450ac898b"
      },
      "execution_count": 19,
      "outputs": [
        {
          "output_type": "stream",
          "name": "stdout",
          "text": [
            "학번 :  2371083 이름 :  변지혜\n"
          ]
        }
      ]
    }
  ]
}